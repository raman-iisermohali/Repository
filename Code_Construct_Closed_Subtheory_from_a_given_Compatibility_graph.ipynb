{
  "nbformat": 4,
  "nbformat_minor": 0,
  "metadata": {
    "colab": {
      "name": "Code: Construct Closed Subtheory from a given Compatibility graph",
      "provenance": [],
      "collapsed_sections": [],
      "authorship_tag": "ABX9TyO7uEpwal2Z5i6hlcHEe+Su",
      "include_colab_link": true
    },
    "kernelspec": {
      "name": "python3",
      "display_name": "Python 3"
    },
    "language_info": {
      "name": "python"
    }
  },
  "cells": [
    {
      "cell_type": "markdown",
      "metadata": {
        "id": "view-in-github",
        "colab_type": "text"
      },
      "source": [
        "<a href=\"https://colab.research.google.com/github/raman-iisermohali/Repository/blob/main/Code_Construct_Closed_Subtheory_from_a_given_Compatibility_graph.ipynb\" target=\"_parent\"><img src=\"https://colab.research.google.com/assets/colab-badge.svg\" alt=\"Open In Colab\"/></a>"
      ]
    },
    {
      "cell_type": "markdown",
      "metadata": {
        "id": "l4gswENip4gZ"
      },
      "source": [
        "# The code does the following:\n",
        "# 1. Take as input a Compatibility graph of a set of Unknown Paulis, say S, Constructs the CLOSED SUBTHEORY S'.\n",
        "# 2. Construct the Compatibility graph of S'.\n",
        "# 3. Check Chordality of S'.\n",
        "\n",
        "\n",
        "# Note that our premise here is that we are given a Hamiltonian as a weighted sum of Paulis with real weights SO ANY '-' SIGN IN FRONT OF PAULIS IN S is assumed to be absorbed in the coefficients so that below we can mention the S(the starting set) with no signs\n",
        "### Although this Code works perfectly well as long as the Paulis supplied are signed with (+-)1 ones but not with (+-) Iota. "
      ]
    },
    {
      "cell_type": "code",
      "metadata": {
        "id": "iLYLtTqfqhwI"
      },
      "source": [
        "# Since we only compute products of Commuting Signed Paulis where the two Commuting Signed PAULIS are Hermitian i.e. each only +-1 signed \n",
        "# this is because we start with a set of Hermitian(Signed +-1) Paulis only and then take the product of two which commute.\n",
        "# if you change the starting set to any signed pauli from the Pauli group then this code won't work always."
      ],
      "execution_count": null,
      "outputs": []
    },
    {
      "cell_type": "code",
      "metadata": {
        "id": "0ZNA-8Uzv5Xe"
      },
      "source": [
        "import networkx as nx\n",
        "from networkx import isomorphism as ism\n",
        "import numpy as np\n",
        "import sys"
      ],
      "execution_count": null,
      "outputs": []
    },
    {
      "cell_type": "code",
      "metadata": {
        "id": "_bV0yMcw4wvW"
      },
      "source": [
        "def Commute(A,B):\n",
        "  m=0\n",
        "  for i in B:\n",
        "    for j in A:\n",
        "      if i!=j:\n",
        "        if (i,j) not in G.edges():\n",
        "          m=m+1\n",
        "  if m%2==0:\n",
        "    return True\n",
        "  else: \n",
        "    return False       "
      ],
      "execution_count": null,
      "outputs": []
    },
    {
      "cell_type": "code",
      "metadata": {
        "colab": {
          "base_uri": "https://localhost:8080/",
          "height": 319
        },
        "id": "zd5D0MaMwH6h",
        "outputId": "2cc769ae-b023-4066-f94c-adf794d289f6"
      },
      "source": [
        "G=[('A','B'),('B','C')]#,('C','D'),('D','E')]\n",
        "#G=[('A','B'),('B','C')]\n",
        "G=nx.Graph(G)\n",
        "G.add_node('D')\n",
        "nx.draw(G,with_labels=True)"
      ],
      "execution_count": null,
      "outputs": [
        {
          "output_type": "display_data",
          "data": {
            "image/png": "[encoded data removed]",
            "text/plain": [
              "<Figure size 432x288 with 1 Axes>"
            ]
          },
          "metadata": {
            "tags": []
          }
        }
      ]
    },
    {
      "cell_type": "code",
      "metadata": {
        "id": "a6NQam0iw3HK"
      },
      "source": [
        "S=[]\n",
        "for i in G.nodes():\n",
        "  S.append(i)"
      ],
      "execution_count": null,
      "outputs": []
    },
    {
      "cell_type": "code",
      "metadata": {
        "colab": {
          "base_uri": "https://localhost:8080/"
        },
        "id": "0lSsuc1Dzyza",
        "outputId": "45ac880f-b530-440a-cd56-c9c0dcd078e4"
      },
      "source": [
        "for i in G.edges():\n",
        "  print(i[0]+i[1])  "
      ],
      "execution_count": null,
      "outputs": [
        {
          "output_type": "stream",
          "text": [
            "AB\n",
            "BC\n"
          ],
          "name": "stdout"
        }
      ]
    },
    {
      "cell_type": "code",
      "metadata": {
        "colab": {
          "base_uri": "https://localhost:8080/"
        },
        "id": "aKknJHityigj",
        "outputId": "c82eef63-a687-4ea1-bed5-633c66ec39fc"
      },
      "source": [
        "# Add all the directly inferred Commuting operators' product in S from the Compatibility graph\n",
        "for i in G.edges():\n",
        "  S.append(i[0]+i[1])\n",
        "print(S)\n",
        "print(len(G.nodes()))"
      ],
      "execution_count": null,
      "outputs": [
        {
          "output_type": "stream",
          "text": [
            "['A', 'B', 'C', 'D', 'AB', 'BC']\n",
            "4\n"
          ],
          "name": "stdout"
        }
      ]
    },
    {
      "cell_type": "code",
      "metadata": {
        "id": "K4nZIFjGAN6_"
      },
      "source": [
        "def signless(x):\n",
        "  a=''\n",
        "  if x[0]=='-':\n",
        "    for i in range(1,len(x)):\n",
        "      a=a+x[i]\n",
        "  else:\n",
        "    a=x\n",
        "  return a  \n",
        "def S_collector(A,x): #string collector\n",
        "  a=[]\n",
        "  h=signless(x)\n",
        "  for s in A:\n",
        "    if (s[0]=='-' and x[0]=='-') or (s[0]!='-' and x[0]!='-'):\n",
        "      if len(s)==len(x):\n",
        "        a.append(s)\n",
        "    else:\n",
        "      if s[0]=='-':\n",
        "        c=''\n",
        "        for j in range(1,len(s)):\n",
        "          c=c+s[j]\n",
        "        if len(h)==len(c):\n",
        "          a.append(s) \n",
        "      else:\n",
        "        if len(h)==len(s):\n",
        "          a.append(s) \n",
        "  return a        \n",
        "def Overall_phase(A,B): ### '-BDAEC', 'CDEAB' \n",
        "  a=[]\n",
        "  b=[]\n",
        "  c=0\n",
        "  if A[0]=='-':\n",
        "    c=c+1\n",
        "  if B[0]=='-':\n",
        "    c=c+1\n",
        "  B=signless(B)\n",
        "  A=signless(A)\n",
        "  for q in range(0,len(A)): #(0,5)\n",
        "    for w in range(0,len(B)):#(0,5)\n",
        "      if A[q]==B[w]:\n",
        "              ## Now we check the number of anticommuting terms between A[i=q] and B[j=w] for all equal terms in AB-(qwert)(ghqkl)\n",
        "              if w!=0:\n",
        "                for k in range(0,w):\n",
        "                  if (B[w],B[k]) not in G.edges() and (k not in b):\n",
        "                    c=c+1\n",
        "                    #print(c)\n",
        "              if q!=len(A)-1:\n",
        "                for k in range(q+1,len(A)):\n",
        "                  if (B[w],A[k]) not in G.edges() and (k not in a):\n",
        "                    c=c+1\n",
        "              a.append(q)\n",
        "              b.append(w)                     \n",
        "  if c%2==0:\n",
        "    return 1\n",
        "  else:\n",
        "    return -1   \n",
        "def Equal(S,H,x):\n",
        "  a=S_collector(S,x)\n",
        "  if H==S:\n",
        "    b=[]\n",
        "  else:   \n",
        "    b=S_collector(H,x)\n",
        "  f=signless(x)\n",
        "  M=a+b\n",
        "  X=[]\n",
        "  for i in M: #we already have the signless version of x ready as P+Q whereas we need to construct the signless versions for observables in X\n",
        "    if i[0]=='-':\n",
        "      k=''\n",
        "      for j in range(1,len(i)):\n",
        "        k=k+i[j]\n",
        "      X.append(k)\n",
        "    else:\n",
        "      X.append(i) \n",
        "  for i in range(0,len(X)):\n",
        "    if X[i]!=x:\n",
        "      m=0\n",
        "      for k in f:\n",
        "        for j in X[i]:\n",
        "          if k==j:\n",
        "            m=m+1\n",
        "            continue\n",
        "    else:\n",
        "      m=len(f)       \n",
        "    if m==len(f) and Overall_phase(x,M[i])==1:\n",
        "      return True\n",
        "  return False                   "
      ],
      "execution_count": null,
      "outputs": []
    },
    {
      "cell_type": "code",
      "metadata": {
        "id": "UhHoHMCVbW4O"
      },
      "source": [
        "def Order(x):\n",
        "#  if x=='I' or x=='-I':\n",
        " #   print(\"Yes\")\n",
        "  K=list(G.nodes()) # decides the order\n",
        "  l=''\n",
        "  c=0 # will count the anticommmuting terms\n",
        "  for j in range(0,len(K)):\n",
        "    if K[j] in x:\n",
        "      i=x.index(K[j])\n",
        "      Y=[k for k in K[0:j]] # stores all the elements before K[j] in order\n",
        "      for k in range(0,i):\n",
        "        if ((x[k],K[j]) not in G.edges()) and (x[k] not in Y): #This will even take care of the minus sign since x[0]='-' won't be in edges and in Y\n",
        "          c=c+1\n",
        "      l=l+K[j]\n",
        "  if c%2!=0:\n",
        "    l='-'+ l\n",
        "    return l\n",
        "  else:\n",
        "    #if l=='':\n",
        "     # print(x)\n",
        "     # print(c)\n",
        "    return l      "
      ],
      "execution_count": null,
      "outputs": []
    },
    {
      "cell_type": "code",
      "metadata": {
        "colab": {
          "base_uri": "https://localhost:8080/"
        },
        "id": "r8XomdA10gxF",
        "outputId": "a2a45057-1e81-43d6-8a0e-bda23276f406"
      },
      "source": [
        "a=len(G.nodes())\n",
        "b=1\n",
        "while a!=b: \n",
        "  H=[]            # stores the new unique products in a given iteration of while loop and adds them to S\n",
        "  for i in range(a,len(S)): # Imagine [A,B,C,D,AB,BC,CD] for the first iteration of the while loop now we have i starting from AB till CD and j from A to D for AB, till A to Ab fo BC and so on. \n",
        "    for j in range(0,i):\n",
        "      c=0             # keeps track of the number of -1 appearing in constructing AB below- Basically tells the overall phase AB(power of -1)\n",
        "      m=0             # keeps track of the number of -1 appearing in constructing BA below- Basically tells the overall phase BA(power of -1)\n",
        "      A=S[j] # here A=S[j] would be of the form GHJK where G,H,J and K are elements of the original S we started with\n",
        "      B=S[i] \n",
        "      #remove '-' from A since that information is already stored in c and m.\n",
        "      if A[0]=='-':\n",
        "        c=c+1\n",
        "        m=m+1\n",
        "        A='' \n",
        "        for k in range(1,len(S[j])):\n",
        "          A=A+S[j][k]\n",
        "      ######    \n",
        "      #remove '-' from B since that information is already stored in c and m.    \n",
        "      if B[0]=='-':\n",
        "        c=c+1\n",
        "        m=m+1\n",
        "        B='' \n",
        "        for k in range(1,len(S[i])):\n",
        "          B=B+S[i][k] \n",
        "      ######## Next if they commute then we need to simplify (if required) them where simplification means that whatever common terms are there in A and B we remove them and also prepare so that AB or BA only one of them gets appended to S.    \n",
        "      if Commute(A,B):\n",
        "        R=[] #stores indices of A's terms which are equal to B's terms\n",
        "        T=[] # stores indices of B's terms which are equal to A's terms\n",
        "        for q in range(0,len(A)):\n",
        "          for w in range(0,len(B)):\n",
        "            if A[q]==B[w]:\n",
        "              R.append(q)\n",
        "              T.append(w)\n",
        "              ## Now we check the number of anticommuting terms between A[i=q] and B[j=w] for all equal terms in AB-(qwert)(ghqkl)\n",
        "              if w!=0:\n",
        "                for k in range(0,w):\n",
        "                  if (B[w],B[k]) not in G.edges():\n",
        "                    c=c+1\n",
        "              if q!=len(A)-1:\n",
        "                for k in range(q+1,len(A)):\n",
        "                  if (B[w],A[k]) not in G.edges():\n",
        "                    c=c+1\n",
        "              #########\n",
        "              #### Now we check the number of anticommuting terms between B[j] and A[i] for all equal terms in  BA-(ghqkl)(qwert)     \n",
        "              if q!=0:\n",
        "                for k in range(0,q):\n",
        "                  if (A[q],A[k]) not in G.edges():\n",
        "                    m=m+1\n",
        "              if w!=len(B)-1:\n",
        "                for k in range(w+1,len(B)):\n",
        "                  if (A[q],B[k]) not in G.edges():\n",
        "                    m=m+1\n",
        "              ########## \n",
        "              ####(Simplification) Next we remove these common elements from A and B \n",
        "          # P will contain A with element common to B removed\n",
        "        P='' \n",
        "        for l in range(0,len(A)):\n",
        "          if l not in R:\n",
        "            P=P+A[l]\n",
        "           ##### \n",
        "          # Q will contain B with element common to A removed   \n",
        "        Q='' \n",
        "        for l in range(0,len(B)):\n",
        "          if l not in T:\n",
        "            Q=Q+B[l]\n",
        "          #####\n",
        "# Now we check conditions for c and m to care for the overall Phase and on P and Q to see when to append to H.\n",
        "# x and y are simplified forms of products AB and BA respectively when AB=BA\n",
        "        if (c%2!=0 and P==Q): # c is odd and P=Q\n",
        "          x='-I'  \n",
        "        elif (c%2!=0 and P!=Q and P!='I' and Q!='I'): # c is odd and P!=Q \n",
        "          x='-'+P+Q   \n",
        "        elif (c%2==0 and P==Q): # c is even and P=Q\n",
        "          x='I'\n",
        "        elif (c%2==0 and P!=Q and P!='I' and Q!='I'): # c is even and P!=Q\n",
        "          x=P+Q\n",
        "        if (x=='I' or x=='-I'):\n",
        "          x=x\n",
        "        else:\n",
        "          x=Order(x)  \n",
        "        if (x not in S) and (x not in H) and (x!='' or x!='-'):\n",
        "          H.append(x)\n",
        "  # NOW STORE THE LENGTH OF S we started with before while loop's single iteration and then append whatever unique observables we stored in H to S and store the length of new S.          \n",
        "  a=len(S)\n",
        "  for c in H:\n",
        "    S.append(c)\n",
        "  print(S)  \n",
        "  b=len(S)\n",
        "if 'I' not in S:\n",
        "  S.append('I')\n",
        "if '-I' not in S:\n",
        "  S.append('-I')  \n",
        "for i in S:\n",
        "  if i[0]=='-':\n",
        "    i=signless(i)\n",
        "    if not Equal(S,S,i):\n",
        "      S.append(i)\n",
        "  else:\n",
        "    i='-'+i\n",
        "    if not Equal(S,S,i):\n",
        "      S.append(i)    \n"
      ],
      "execution_count": null,
      "outputs": [
        {
          "output_type": "stream",
          "text": [
            "['A', 'B', 'C', 'D', 'AB', 'BC', 'ABD', 'BCD']\n",
            "['A', 'B', 'C', 'D', 'AB', 'BC', 'ABD', 'BCD', '-ABCD', 'ABCD']\n",
            "['A', 'B', 'C', 'D', 'AB', 'BC', 'ABD', 'BCD', '-ABCD', 'ABCD', '-BCD', '-A', '-ABD', '-C', '-I']\n",
            "['A', 'B', 'C', 'D', 'AB', 'BC', 'ABD', 'BCD', '-ABCD', 'ABCD', '-BCD', '-A', '-ABD', '-C', '-I', '-D', '-B']\n",
            "['A', 'B', 'C', 'D', 'AB', 'BC', 'ABD', 'BCD', '-ABCD', 'ABCD', '-BCD', '-A', '-ABD', '-C', '-I', '-D', '-B']\n"
          ],
          "name": "stdout"
        }
      ]
    },
    {
      "cell_type": "code",
      "metadata": {
        "colab": {
          "base_uri": "https://localhost:8080/"
        },
        "id": "v1d9KkrAc8x7",
        "outputId": "32342377-3aff-4f5a-bc80-dbfced5d4e70"
      },
      "source": [
        "print(len(S))"
      ],
      "execution_count": null,
      "outputs": [
        {
          "output_type": "stream",
          "text": [
            "20\n"
          ],
          "name": "stdout"
        }
      ]
    },
    {
      "cell_type": "code",
      "metadata": {
        "colab": {
          "base_uri": "https://localhost:8080/"
        },
        "id": "iq_xUAymtx6e",
        "outputId": "edca8910-81e5-4917-dcfb-9df67093a7bb"
      },
      "source": [
        "print(S)"
      ],
      "execution_count": null,
      "outputs": [
        {
          "output_type": "stream",
          "text": [
            "['A', 'B', 'C', 'D', 'AB', 'BC', 'ABD', 'BCD', '-ABCD', 'ABCD', '-BCD', '-A', '-ABD', '-C', '-I', '-D', '-B', 'I', '-AB', '-BC']\n"
          ],
          "name": "stdout"
        }
      ]
    },
    {
      "cell_type": "code",
      "metadata": {
        "id": "nCQDXEYoKFP5"
      },
      "source": [
        ""
      ],
      "execution_count": null,
      "outputs": []
    }
  ]
}